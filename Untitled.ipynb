{
 "cells": [
  {
   "cell_type": "code",
   "execution_count": 21,
   "metadata": {},
   "outputs": [
    {
     "data": {
      "text/latex": [
       "\\[ \\begin{equation}\n",
       "\\ 6) \\  log_4 \\ 16 = 2  \\\\\n",
       "7) \\  log_5 \\ \\frac1{25} = -2  \\\\\n",
       "8) \\  log_{25} \\ 5 = 0.5  \\\\\n",
       "9) \\  log_3 \\ \\sqrt{27} = 1.5  \\\\\n",
       "10) \\  log_2 \\ 12 -log_2 \\ 3 = log_2 \\frac{12}3 = 2  \\\\\n",
       "11) \\  log_6 \\ 12 + log_6 \\ 3 = log_6 \\ (12 * 3) = Log_6 36 = 2  \\\\\n",
       "12) \\  e^{ln \\ 5} = 5  \\\\\n",
       "13) \\  \\frac{log_2 \\ 225}{log_2 \\ 15} = 2  \\\\\n",
       "14) \\  log_4 \\ 32 + log_{0.1} \\ 10 = 1.5  \\\\\n",
       "15) \\  9^{log_3 \\ \\sqrt5} = 5 \n",
       "\\end{equation} \\]\n"
      ],
      "text/plain": [
       "<IPython.core.display.Latex object>"
      ]
     },
     "metadata": {},
     "output_type": "display_data"
    }
   ],
   "source": [
    "%%latex\n",
    "\\[ \\begin{array}\n",
    "\\ 6) \\  log_4 \\ 16 = 2  \\\\\n",
    "7) \\  log_5 \\ \\frac1{25} = -2  \\\\\n",
    "8) \\  log_{25} \\ 5 = 0.5  \\\\\n",
    "9) \\  log_3 \\ \\sqrt{27} = 1.5  \\\\\n",
    "10) \\  log_2 \\ 12 -log_2 \\ 3 = log_2 \\frac{12}3 = 2  \\\\\n",
    "11) \\  log_6 \\ 12 + log_6 \\ 3 = log_6 \\ (12 * 3) = Log_6 36 = 2  \\\\\n",
    "12) \\  e^{ln \\ 5} = 5  \\\\\n",
    "13) \\  \\frac{log_2 \\ 225}{log_2 \\ 15} = 2  \\\\\n",
    "14) \\  log_4 \\ 32 + log_{0.1} \\ 10 = 1.5  \\\\\n",
    "15) \\  9^{log_3 \\ \\sqrt5} = 5 \n",
    "\\end{array} \\]"
   ]
  }
 ],
 "metadata": {
  "kernelspec": {
   "display_name": "Python 3",
   "language": "python",
   "name": "python3"
  },
  "language_info": {
   "codemirror_mode": {
    "name": "ipython",
    "version": 3
   },
   "file_extension": ".py",
   "mimetype": "text/x-python",
   "name": "python",
   "nbconvert_exporter": "python",
   "pygments_lexer": "ipython3",
   "version": "3.7.3"
  }
 },
 "nbformat": 4,
 "nbformat_minor": 2
}

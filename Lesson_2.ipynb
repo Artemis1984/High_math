{
 "cells": [
  {
   "cell_type": "code",
   "execution_count": 1,
   "metadata": {},
   "outputs": [],
   "source": [
    "import numpy as np\n",
    "import math\n",
    "import warnings\n",
    "warnings.filterwarnings('ignore')"
   ]
  },
  {
   "cell_type": "markdown",
   "metadata": {},
   "source": [
    "### 1. Задание \n",
    "Напишите уравнение параболы, проходящей через три точки (x,y):\n",
    "(1,2), (3,10), (5,1)"
   ]
  },
  {
   "cell_type": "code",
   "execution_count": 2,
   "metadata": {},
   "outputs": [
    {
     "data": {
      "text/latex": [
       "\\[ \\left\\{\n",
       "\\begin{array}{l1}\n",
       "   a + b + c = 2\\\\\n",
       "   9a + 3b + c = 10\\\\\n",
       "   25a + 5b + c = 1\n",
       "\\end{array} \\right. \\]\n",
       "\n"
      ],
      "text/plain": [
       "<IPython.core.display.Latex object>"
      ]
     },
     "metadata": {},
     "output_type": "display_data"
    }
   ],
   "source": [
    "%%latex\n",
    "\\[ \\left\\{\n",
    "\\begin{array}{l1}\n",
    "   a + b + c = 2\\\\\n",
    "   9a + 3b + c = 10\\\\\n",
    "   25a + 5b + c = 1\n",
    "\\end{array} \\right. \\]\n",
    "\n"
   ]
  },
  {
   "cell_type": "code",
   "execution_count": 4,
   "metadata": {},
   "outputs": [
    {
     "data": {
      "text/plain": [
       "(-2.125, 12.5, -8.375)"
      ]
     },
     "execution_count": 4,
     "metadata": {},
     "output_type": "execute_result"
    }
   ],
   "source": [
    "A = [[1, 1, 1], [9, 3, 1], [25, 5, 1]]\n",
    "B = [2, 10, 1]\n",
    "a, b, c = np.linalg.solve(A, B).round(3)\n",
    "a, b, c"
   ]
  },
  {
   "cell_type": "markdown",
   "metadata": {},
   "source": [
    "### Решение"
   ]
  },
  {
   "cell_type": "code",
   "execution_count": 5,
   "metadata": {},
   "outputs": [
    {
     "data": {
      "text/latex": [
       "\\[ Y = -2.125x^2 + 12.5x -8.375\\]\n"
      ],
      "text/plain": [
       "<IPython.core.display.Latex object>"
      ]
     },
     "metadata": {},
     "output_type": "display_data"
    }
   ],
   "source": [
    "%%latex\n",
    "\\[ Y = -2.125x^2 + 12.5x -8.375\\]"
   ]
  },
  {
   "cell_type": "markdown",
   "metadata": {},
   "source": [
    "### 2. Задание \n",
    "Известно, что свежий огурец на 99% состоит из воды. Месяц назад взвесили мешок со свежими огурцами. Получилось, что огурцов ровно 100 кг. Мешок убрали, а через месяц снова взвесили. Огурцы за это время усохли, и теперь вода составляет уже только 98% их веса. Сколько теперь (в кг) весят огурцы?"
   ]
  },
  {
   "cell_type": "code",
   "execution_count": 6,
   "metadata": {},
   "outputs": [
    {
     "data": {
      "text/latex": [
       "\n",
       "\\begin{gather}\\ \\ \\ 1 + \\frac{100}{100} * 99 = 100\\\\\n",
       "\\\\1 + \\frac{x}{100} * 98 = x \\\\\n",
       "  \\\\100 + 98x = 100x \\\\\n",
       "\\\\ 2x = 100 \\\\\n",
       " x = 50 \\\\ \n",
       "ответ: 50 кг\\end{gather}\n"
      ],
      "text/plain": [
       "<IPython.core.display.Latex object>"
      ]
     },
     "metadata": {},
     "output_type": "display_data"
    }
   ],
   "source": [
    "%%latex\n",
    "\n",
    "\\begin{gather}\\ \\ \\ 1 + \\frac{100}{100} * 99 = 100\\\\\n",
    "\\\\1 + \\frac{x}{100} * 98 = x \\\\\n",
    "  \\\\100 + 98x = 100x \\\\\n",
    "\\\\ 2x = 100 \\\\\n",
    " x = 50 \\\\ \n",
    "ответ: 50 кг\\end{gather}\n"
   ]
  },
  {
   "cell_type": "markdown",
   "metadata": {},
   "source": [
    "### 3. Задание. Определение логарифма. Решить уравнения:"
   ]
  },
  {
   "cell_type": "code",
   "execution_count": 26,
   "metadata": {},
   "outputs": [
    {
     "data": {
      "text/latex": [
       "\\[1) \\  2^x = 256 \\ \\ =>\\ \\ log_2 \\ 256 = 8 \\]\n",
       "\\[2) \\  2^x = 300 \\ \\ =>\\ \\ log_2 \\ 300 = 8.228818690495881 \\]\n",
       "\\[3) \\  log_8 \\ 2^{8x-4} = 4 \\ \\ =>\\ \\ 2^{12} = 2 ^{8x - 4} \\ \\ => 12 = 8x - 4 \\ \\ => \\ \\ x = 2 \\]\n",
       "\\[4) \\  3^{log_9 (5x - 5)} = 5 \\ \\ =>  \\ \\ 1.4649735207179269 = log_9 (5x - 5) \\ \\ => \\ \\ 25 = 5x - 5 \\ \\ => \\ \\ x = 6\\]\n",
       "\\[5) \\  x^{log_3 (x+1)} = 9 \\ => \\ x = 4.271913342490738 \\]\n",
       "просьба объяснить как решается 5 уравнение\n"
      ],
      "text/plain": [
       "<IPython.core.display.Latex object>"
      ]
     },
     "metadata": {},
     "output_type": "display_data"
    }
   ],
   "source": [
    "%%latex\n",
    "\\[1) \\  2^x = 256 \\ \\ =>\\ \\ log_2 \\ 256 = 8 \\]\n",
    "\\[2) \\  2^x = 300 \\ \\ =>\\ \\ log_2 \\ 300 = 8.228818690495881 \\]\n",
    "\\[3) \\  log_8 \\ 2^{8x-4} = 4 \\ \\ =>\\ \\ 2^{12} = 2 ^{8x - 4} \\ \\ => 12 = 8x - 4 \\ \\ => \\ \\ x = 2 \\]\n",
    "\\[4) \\  3^{log_9 (5x - 5)} = 5 \\ \\ =>  \\ \\ 1.4649735207179269 = log_9 (5x - 5) \\ \\ => \\ \\ 25 = 5x - 5 \\ \\ => \\ \\ x = 6\\]\n",
    "\\[5) \\  x^{log_3 (x+1)} = 9 \\ => \\ x = 4.271913342490738 \\]\n",
    "просьба объяснить как решается 5 уравнение"
   ]
  },
  {
   "cell_type": "markdown",
   "metadata": {},
   "source": [
    "### 4. Задание Свойства логарифмов. Вычислить:"
   ]
  },
  {
   "cell_type": "code",
   "execution_count": 13,
   "metadata": {},
   "outputs": [
    {
     "data": {
      "text/latex": [
       "\n",
       "\\[6) \\  log_4 \\ 16 = 2 \\] \n",
       "\\[7) \\  log_5 \\ \\frac1{25} = -2 \\]\n",
       "\\[8) \\  log_{25} \\ 5 = 0.5 \\]\n",
       "\\[9) \\  log_3 \\ \\sqrt{27} = 1.5 \\]\n",
       "\\[10) \\  log_2 \\ 12 -log_2 \\ 3 = log_2 \\frac{12}3 = 2 \\]\n",
       "\\[11) \\  log_6 \\ 12 + log_6 \\ 3 = log_6 \\ (12 * 3) = Log_6 36 = 2 \\]\n",
       "\\[12) \\  e^{ln \\ 5} = 5 \\]\n",
       "\\[13) \\  \\frac{log_2 \\ 225}{log_2 \\ 15} = 2 \\]\n",
       "\\[14) \\  log_4 \\ 32 + log_{0.1} \\ 10 = 1.5 \\]\n",
       "\\[15) \\  9^{log_3 \\ \\sqrt5} = 5 \\]\n"
      ],
      "text/plain": [
       "<IPython.core.display.Latex object>"
      ]
     },
     "metadata": {},
     "output_type": "display_data"
    }
   ],
   "source": [
    "%%latex\n",
    "\n",
    "\\[6) \\  log_4 \\ 16 = 2 \\] \n",
    "\\[7) \\  log_5 \\ \\frac1{25} = -2 \\]\n",
    "\\[8) \\  log_{25} \\ 5 = 0.5 \\]\n",
    "\\[9) \\  log_3 \\ \\sqrt{27} = 1.5 \\]\n",
    "\\[10) \\  log_2 \\ 12 -log_2 \\ 3 = log_2 \\frac{12}3 = 2 \\]\n",
    "\\[11) \\  log_6 \\ 12 + log_6 \\ 3 = log_6 \\ (12 * 3) = Log_6 36 = 2 \\]\n",
    "\\[12) \\  e^{ln \\ 5} = 5 \\]\n",
    "\\[13) \\  \\frac{log_2 \\ 225}{log_2 \\ 15} = 2 \\]\n",
    "\\[14) \\  log_4 \\ 32 + log_{0.1} \\ 10 = 1.5 \\]\n",
    "\\[15) \\  9^{log_3 \\ \\sqrt5} = 5 \\]"
   ]
  }
 ],
 "metadata": {
  "kernelspec": {
   "display_name": "Python 3",
   "language": "python",
   "name": "python3"
  },
  "language_info": {
   "codemirror_mode": {
    "name": "ipython",
    "version": 3
   },
   "file_extension": ".py",
   "mimetype": "text/x-python",
   "name": "python",
   "nbconvert_exporter": "python",
   "pygments_lexer": "ipython3",
   "version": "3.7.3"
  }
 },
 "nbformat": 4,
 "nbformat_minor": 2
}

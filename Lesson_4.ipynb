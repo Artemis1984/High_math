{
 "cells": [
  {
   "cell_type": "code",
   "execution_count": 1,
   "metadata": {},
   "outputs": [],
   "source": [
    "import sympy as smp\n",
    "import numpy as np\n",
    "import math\n",
    "import matplotlib.pyplot as plt"
   ]
  },
  {
   "cell_type": "markdown",
   "metadata": {},
   "source": [
    "### 1. Задание (на листочке)\n",
    "1. Решите уравнение                                                                                                   \n",
    "sin(x)/x=0.\n"
   ]
  },
  {
   "cell_type": "code",
   "execution_count": 2,
   "metadata": {},
   "outputs": [
    {
     "name": "stdout",
     "output_type": "stream",
     "text": [
      "ответ: pi\n"
     ]
    }
   ],
   "source": [
    "x = smp.Symbol('x')\n",
    "ans = smp.solve(smp.sin(x)/x, x)\n",
    "ans = ans[0]\n",
    "print('ответ:', ans)"
   ]
  },
  {
   "cell_type": "markdown",
   "metadata": {},
   "source": [
    "#### 2. Задание (на листочке)\n",
    "Даны три прямые y=k1*x+b1, y=k2*x+b2,, y=k3*x+b3. Как узнать, пересекаются они в одной точке или нет?                 "
   ]
  },
  {
   "cell_type": "code",
   "execution_count": 3,
   "metadata": {},
   "outputs": [
    {
     "name": "stdout",
     "output_type": "stream",
     "text": [
      "9 -1 0.5 0.5 0.5\n"
     ]
    },
    {
     "data": {
      "image/png": "[encoded data removed]",
      "text/plain": [
       "<Figure size 432x288 with 1 Axes>"
      ]
     },
     "metadata": {
      "needs_background": "light"
     },
     "output_type": "display_data"
    }
   ],
   "source": [
    "x = np.arange(-10, 10)\n",
    "\n",
    "k = 0.5\n",
    "k1 = 1.5\n",
    "k2 = 2.5\n",
    "b = 1\n",
    "b1 = 2\n",
    "b2 = 3\n",
    "\n",
    "y = k*x + b\n",
    "y1 = k1*x + b1\n",
    "y2 = k2*x + b2\n",
    "\n",
    "\n",
    "plt.scatter(x, y)\n",
    "plt.scatter(x, y1)\n",
    "plt.scatter(x, y2)\n",
    "\n",
    "for i in range(len(y)):\n",
    "    if y[i] == y1[i] and y[i] == y2[i]:\n",
    "        print(i, x[i], y[i], y1[i], y2[i])\n",
    "    "
   ]
  },
  {
   "cell_type": "markdown",
   "metadata": {},
   "source": [
    "#### ответ: вычисляем итерационно, если у трех прямых есть общая точка, значит они пересекаются в одной точке"
   ]
  },
  {
   "cell_type": "markdown",
   "metadata": {},
   "source": [
    "### 3. Задание (в программе или на листочке)\n",
    "На листе тетради «в линейку» (расстояние между линиями равно а) лежит игла (длиной b). Координаты нижней точки иглы (х,у), игла лежит под углом alfa. Пересекает ли игла линию или нет?\n"
   ]
  },
  {
   "cell_type": "code",
   "execution_count": 7,
   "metadata": {},
   "outputs": [
    {
     "name": "stdout",
     "output_type": "stream",
     "text": [
      "нет, не пересекает\n"
     ]
    }
   ],
   "source": [
    "x, y = 0, 0\n",
    "spine_len = 3\n",
    "line_width = 2\n",
    "angle = 30\n",
    "def from_pol_to_dec(radius, angle):\n",
    "    x = []\n",
    "    y = []\n",
    "    for i in range(len(radius)):\n",
    "        x.append(radius[i] * np.round(math.cos(math.radians(angle[i])), decimals=4))\n",
    "        y.append(radius[i] * np.round(math.sin(math.radians(angle[i])), decimals=4))\n",
    "    return x, y\n",
    "\n",
    "x1 = from_pol_to_dec([spine_len], [angle])[0][0]\n",
    "y1 = from_pol_to_dec([spine_len], [angle])[1][0]\n",
    "\n",
    "if abs(y1) > line_width:\n",
    "    print('да, пересекает линию')\n",
    "else:\n",
    "    print('нет, не пересекает')\n",
    "        \n"
   ]
  },
  {
   "cell_type": "markdown",
   "metadata": {},
   "source": [
    "#### Будем считать, что начальная точка иглы, это начало координат по декартовой системе, но в таком случае мы можем перевести конечную точку иглы с полярных на декартовую и вычислить ее, и в таком случае нас интересует лишь значение оси ординат, так как игла может пересечь линии в тетради, если у него ордината больше, чем расстояние меюду линиями."
   ]
  }
 ],
 "metadata": {
  "kernelspec": {
   "display_name": "Python 3",
   "language": "python",
   "name": "python3"
  },
  "language_info": {
   "codemirror_mode": {
    "name": "ipython",
    "version": 3
   },
   "file_extension": ".py",
   "mimetype": "text/x-python",
   "name": "python",
   "nbconvert_exporter": "python",
   "pygments_lexer": "ipython3",
   "version": "3.7.3"
  }
 },
 "nbformat": 4,
 "nbformat_minor": 2
}
